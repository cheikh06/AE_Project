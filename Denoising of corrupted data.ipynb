{
 "cells": [
  {
   "cell_type": "markdown",
   "metadata": {},
   "source": [
    "### Denoising Signal\n",
    "\n",
    "Dans ce notebook, je présente deux méthodes pour débruiter un signal.\n",
    "\n",
    "J'utilise un autoencodeur, puis un ACP.\n"
   ]
  },
  {
   "cell_type": "code",
   "execution_count": 1,
   "metadata": {},
   "outputs": [],
   "source": [
    "import os\n",
    "import torch\n",
    "torch.manual_seed(42)\n",
    "import numpy as np\n",
    "\n",
    "import torchvision.datasets as dst\n",
    "import torchvision\n",
    "\n",
    "from torch.utils.data import DataLoader\n",
    "\n",
    "import torch.nn as nn\n",
    "\n",
    "import matplotlib.pyplot as plt\n",
    "\n",
    "import seaborn as sns; sns.set()\n",
    "\n",
    "\n"
   ]
  },
  {
   "cell_type": "code",
   "execution_count": 2,
   "metadata": {},
   "outputs": [],
   "source": [
    "#Convert image to tensor\n",
    "transform=torchvision.transforms.Compose([torchvision.transforms.ToTensor()])"
   ]
  },
  {
   "cell_type": "code",
   "execution_count": 3,
   "metadata": {},
   "outputs": [],
   "source": [
    "#Télécharger les données\n",
    "\n",
    "MNIST=dst.MNIST(root='./data',download=True, transform=transform)"
   ]
  },
  {
   "cell_type": "code",
   "execution_count": 4,
   "metadata": {},
   "outputs": [],
   "source": [
    "#Charger les données\n",
    "data_load=DataLoader(MNIST,batch_size=128,num_workers=4)"
   ]
  },
  {
   "cell_type": "code",
   "execution_count": 177,
   "metadata": {},
   "outputs": [],
   "source": [
    "def imshow(image):\n",
    "    '''Cette fonction convertit un tensor en image et le montre\n",
    "    inputs:\n",
    "    _________________________\n",
    "    \n",
    "    image: tensor object\n",
    "    \n",
    "    \n",
    "    returns:\n",
    "    _______________________________\n",
    "    \n",
    "    plot of the images\n",
    "    \n",
    "    '''\n",
    "    np_image=np.transpose(image.numpy(),(1,2,0))\n",
    "    \n",
    "    np_image=np.clip(np_image,0,1)\n",
    "    plt.imshow(np_image)\n",
    "    "
   ]
  },
  {
   "cell_type": "code",
   "execution_count": 36,
   "metadata": {},
   "outputs": [
    {
     "data": {
      "image/png": "[encoded data removed]",
      "text/plain": [
       "<Figure size 432x288 with 1 Axes>"
      ]
     },
     "metadata": {},
     "output_type": "display_data"
    }
   ],
   "source": [
    "data_iter=iter(data_load)\n",
    "img,_=next(data_iter)\n",
    "\n",
    "imshow(torchvision.utils.make_grid(img[:3]))\n"
   ]
  },
  {
   "cell_type": "code",
   "execution_count": 7,
   "metadata": {},
   "outputs": [],
   "source": [
    "def add_noise(img):\n",
    "    '''\n",
    "    inputs: image\n",
    "    _________________________\n",
    "    \n",
    "    return: noising image\n",
    "    \n",
    "    '''\n",
    "    \n",
    "    noise=torch.randn_like(img)*0.2\n",
    "    return img+noise"
   ]
  },
  {
   "cell_type": "code",
   "execution_count": 8,
   "metadata": {},
   "outputs": [
    {
     "data": {
      "image/png": "[encoded data removed]",
      "text/plain": [
       "<Figure size 432x288 with 1 Axes>"
      ]
     },
     "metadata": {},
     "output_type": "display_data"
    }
   ],
   "source": [
    "images=add_noise(img)\n",
    "\n",
    "imshow(torchvision.utils.make_grid(images[:3]))"
   ]
  },
  {
   "cell_type": "code",
   "execution_count": 9,
   "metadata": {},
   "outputs": [
    {
     "data": {
      "text/plain": [
       "torch.Size([128, 784])"
      ]
     },
     "execution_count": 9,
     "metadata": {},
     "output_type": "execute_result"
    }
   ],
   "source": [
    "img.view(img.size(0),-1).size()"
   ]
  },
  {
   "cell_type": "code",
   "execution_count": 42,
   "metadata": {},
   "outputs": [
    {
     "data": {
      "text/plain": [
       "torch.Size([128, 1, 28, 28])"
      ]
     },
     "execution_count": 42,
     "metadata": {},
     "output_type": "execute_result"
    }
   ],
   "source": [
    "img.size()"
   ]
  },
  {
   "cell_type": "code",
   "execution_count": 25,
   "metadata": {},
   "outputs": [],
   "source": [
    "class Ae(nn.Module):\n",
    "    def __init__(self):\n",
    "        \n",
    "        '''\n",
    "        Une classe autoencodeur, on lui passe le signal, il \n",
    "        \n",
    "        \n",
    "        \n",
    "        \n",
    "        \n",
    "        '''\n",
    "        \n",
    "        \n",
    "        \n",
    "        \n",
    "        \n",
    "        \n",
    "        super (Ae,self).__init__()\n",
    "        self.encoder=nn.Sequential(\n",
    "                            nn.Linear(in_features=28*28,out_features=256),\n",
    "                            nn.ReLU(True),\n",
    "                            nn.Linear(in_features=256,out_features=64),\n",
    "                            nn.ReLU(True)\n",
    "                                )\n",
    "            \n",
    "        self.decoder=nn.Sequential(\n",
    "                        nn.Linear(in_features=64,out_features=256),\n",
    "                        nn.ReLU(True),\n",
    "                        nn.Linear(in_features=256,out_features=28*28),\n",
    "                        nn.Sigmoid())\n",
    "            \n",
    "            \n",
    "            \n",
    "            \n",
    "    def forward(self,x):\n",
    "            x=self.encoder(x)\n",
    "            x=self.decoder(x)\n",
    "            return x\n",
    "            \n",
    "            "
   ]
  },
  {
   "cell_type": "code",
   "execution_count": 43,
   "metadata": {},
   "outputs": [],
   "source": [
    "def to_image(img):\n",
    "    return img.view(img.size(0),1,28,28)"
   ]
  },
  {
   "cell_type": "code",
   "execution_count": 49,
   "metadata": {},
   "outputs": [
    {
     "name": "stdout",
     "output_type": "stream",
     "text": [
      "epoch[1/100], loss:0.13303379714488983\n",
      "epoch[11/100], loss:0.11311323195695877\n",
      "epoch[21/100], loss:0.11607157438993454\n",
      "epoch[31/100], loss:0.11156146973371506\n",
      "epoch[41/100], loss:0.10792720317840576\n",
      "epoch[51/100], loss:0.10861886292695999\n",
      "epoch[61/100], loss:0.10932639241218567\n",
      "epoch[71/100], loss:0.10783795267343521\n",
      "epoch[81/100], loss:0.11137130856513977\n",
      "epoch[91/100], loss:0.10931301862001419\n",
      "Finished Training\n"
     ]
    }
   ],
   "source": [
    "lr=0.01\n",
    "epochs=100\n",
    "\n",
    "model=Ae()\n",
    "criterion=nn.BCELoss()\n",
    "optimizer=torch.optim.Adam(model.parameters(),lr=lr)\n",
    "\n",
    "\n",
    "for epoch in range(epochs):\n",
    "    for i, data in enumerate(data_load):\n",
    "        img,_=data\n",
    "        img=img.view(img.size(0),-1)\n",
    "        \n",
    "        noise_img=add_noise(img)\n",
    "        output=model(noise_img)\n",
    "        \n",
    "        loss=criterion(output,img)\n",
    "        optimizer.zero_grad()\n",
    "        \n",
    "        loss.backward()\n",
    "        \n",
    "        optimizer.step()\n",
    "        \n",
    "        \n",
    "        \n",
    "        \n",
    "    if epoch % 10 == 0:\n",
    "        print(f'epoch[{epoch+1}/{epochs}], loss:{loss.item()}')\n",
    "            \n",
    "\n",
    "print('Finished Training')"
   ]
  },
  {
   "cell_type": "code",
   "execution_count": 64,
   "metadata": {},
   "outputs": [
    {
     "name": "stdout",
     "output_type": "stream",
     "text": [
      "La vraie image\n"
     ]
    },
    {
     "data": {
      "image/png": "[encoded data removed]",
      "text/plain": [
       "<Figure size 432x288 with 1 Axes>"
      ]
     },
     "metadata": {},
     "output_type": "display_data"
    }
   ],
   "source": [
    "print('La vraie image')\n",
    "imshow(torchvision.utils.make_grid(to_image(img.detach())[:3]))"
   ]
  },
  {
   "cell_type": "code",
   "execution_count": 65,
   "metadata": {},
   "outputs": [
    {
     "name": "stdout",
     "output_type": "stream",
     "text": [
      "L'image corrompue\n"
     ]
    },
    {
     "data": {
      "image/png": "[encoded data removed]",
      "text/plain": [
       "<Figure size 432x288 with 1 Axes>"
      ]
     },
     "metadata": {},
     "output_type": "display_data"
    }
   ],
   "source": [
    "print(\"L'image corrompue\")\n",
    "imshow(torchvision.utils.make_grid(to_image(noise_img.detach())[:3]))"
   ]
  },
  {
   "cell_type": "code",
   "execution_count": 66,
   "metadata": {},
   "outputs": [
    {
     "name": "stdout",
     "output_type": "stream",
     "text": [
      "Après passage AutoEncodeur\n"
     ]
    },
    {
     "data": {
      "image/png": "[encoded data removed]",
      "text/plain": [
       "<Figure size 432x288 with 1 Axes>"
      ]
     },
     "metadata": {},
     "output_type": "display_data"
    }
   ],
   "source": [
    "print(\"Après passage AutoEncodeur\")\n",
    "imshow(torchvision.utils.make_grid(to_image(output.detach())[:3]))"
   ]
  },
  {
   "cell_type": "markdown",
   "metadata": {},
   "source": [
    "### PCA"
   ]
  },
  {
   "cell_type": "code",
   "execution_count": 67,
   "metadata": {},
   "outputs": [],
   "source": [
    "from sklearn.decomposition import PCA"
   ]
  },
  {
   "cell_type": "code",
   "execution_count": 86,
   "metadata": {},
   "outputs": [],
   "source": [
    "from sklearn.datasets import load_digits"
   ]
  },
  {
   "cell_type": "code",
   "execution_count": 89,
   "metadata": {},
   "outputs": [],
   "source": [
    "data=load_digits().data"
   ]
  },
  {
   "cell_type": "code",
   "execution_count": 176,
   "metadata": {},
   "outputs": [
    {
     "name": "stdout",
     "output_type": "stream",
     "text": [
      "True data\n"
     ]
    },
    {
     "data": {
      "image/png": "[encoded data removed]",
      "text/plain": [
       "<Figure size 720x576 with 10 Axes>"
      ]
     },
     "metadata": {},
     "output_type": "display_data"
    }
   ],
   "source": [
    "\n",
    "def show_image(data):\n",
    "    plt.figure(figsize=(10,8))\n",
    "\n",
    "    for i in range(10):\n",
    "        plt.subplot(5,5,i+1)\n",
    "        plt.imshow(data[i].reshape(8,8),cmap='binary',clim=(0,16), interpolation='nearest')\n",
    "        \n",
    "        \n",
    "show_image(data)     \n",
    "\n",
    "print('True data')"
   ]
  },
  {
   "cell_type": "code",
   "execution_count": 167,
   "metadata": {},
   "outputs": [],
   "source": [
    "def add_noise(img):\n",
    "    '''\n",
    "    inputs: image\n",
    "    _________________________\n",
    "    \n",
    "    return: noising image\n",
    "    \n",
    "    '''\n",
    "    noise=np.random.randn(*data.shape)*4\n",
    "    \n",
    "    return img+noise\n",
    "\n"
   ]
  },
  {
   "cell_type": "code",
   "execution_count": 168,
   "metadata": {},
   "outputs": [
    {
     "data": {
      "image/png": "[encoded data removed]",
      "text/plain": [
       "<Figure size 720x576 with 10 Axes>"
      ]
     },
     "metadata": {},
     "output_type": "display_data"
    }
   ],
   "source": [
    "data_noise=add_noise(data)\n",
    "\n",
    "show_image(data_noise)\n",
    "print('Corrupted ')"
   ]
  },
  {
   "cell_type": "code",
   "execution_count": 173,
   "metadata": {},
   "outputs": [],
   "source": [
    "acp=PCA(0.7)\n",
    "\n",
    "data_acp=acp.fit_transform(data)\n",
    "\n"
   ]
  },
  {
   "cell_type": "code",
   "execution_count": 174,
   "metadata": {},
   "outputs": [],
   "source": [
    "data_new=acp.inverse_transform(data_acp)"
   ]
  },
  {
   "cell_type": "code",
   "execution_count": 175,
   "metadata": {},
   "outputs": [
    {
     "data": {
      "image/png": "[encoded data removed]",
      "text/plain": [
       "<Figure size 720x576 with 10 Axes>"
      ]
     },
     "metadata": {},
     "output_type": "display_data"
    }
   ],
   "source": [
    "show_image(data_new)"
   ]
  }
 ],
 "metadata": {
  "kernelspec": {
   "display_name": "Python 3",
   "language": "python",
   "name": "python3"
  },
  "language_info": {
   "codemirror_mode": {
    "name": "ipython",
    "version": 3
   },
   "file_extension": ".py",
   "mimetype": "text/x-python",
   "name": "python",
   "nbconvert_exporter": "python",
   "pygments_lexer": "ipython3",
   "version": "3.8.5"
  }
 },
 "nbformat": 4,
 "nbformat_minor": 4
}
